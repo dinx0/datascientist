{
 "cells": [
  {
   "cell_type": "markdown",
   "id": "7f8506c4",
   "metadata": {},
   "source": [
    "## Sites úteis:\n",
    "- https://www.w3schools.com/sql/default.asp\n",
    "- https://www.sqlservertutorial.net/"
   ]
  },
  {
   "cell_type": "markdown",
   "id": "2a17e1db",
   "metadata": {},
   "source": [
    "## Comandos "
   ]
  },
  {
   "cell_type": "markdown",
   "id": "4ed3319a",
   "metadata": {},
   "source": [
    "### CREATE TABLE"
   ]
  },
  {
   "cell_type": "markdown",
   "id": "48eb952f",
   "metadata": {},
   "source": [
    "`\n",
    "CREATE TABLE fornecedor (\n",
    "    id INT,\n",
    "    nome VARCHAR(15),\n",
    "\tendereco VARCHAR(250) \n",
    " );\n",
    "`"
   ]
  },
  {
   "cell_type": "markdown",
   "id": "fee6820d",
   "metadata": {},
   "source": [
    "### INSERT"
   ]
  },
  {
   "cell_type": "markdown",
   "id": "15da1afc",
   "metadata": {},
   "source": [
    "`\n",
    " INSERT INTO fornecedor (id, nome, endereco)\n",
    " VALUES (1, 'Peixaria Abril', 'Rua dos Leites, 23');\n",
    "`\n",
    "\n",
    "`\n",
    " INSERT INTO fornecedor (id, nome, endereco)\n",
    " VALUES (2, 'Empresa de Leite ParmaLeite', 'Rua dos Leites, 23');\n",
    "`"
   ]
  },
  {
   "cell_type": "markdown",
   "id": "c525055c",
   "metadata": {},
   "source": [
    "### ALTER TABLE"
   ]
  },
  {
   "cell_type": "markdown",
   "id": "8c578570",
   "metadata": {},
   "source": [
    "`\n",
    " ALTER TABLE fornecedor\n",
    " ALTER COLUMN nome VARCHAR(100);\n",
    "`"
   ]
  },
  {
   "cell_type": "markdown",
   "id": "e50f9e3f",
   "metadata": {},
   "source": [
    "### UPDATE "
   ]
  },
  {
   "cell_type": "markdown",
   "id": "7079a542",
   "metadata": {},
   "source": [
    "` \n",
    " UPDATE fornecedor \n",
    " SET nome = 'Pexaria Abril 2'\n",
    " WHERE id = 1;\n",
    "`"
   ]
  },
  {
   "cell_type": "markdown",
   "id": "e8ac6154",
   "metadata": {},
   "source": [
    "### DELETE"
   ]
  },
  {
   "cell_type": "markdown",
   "id": "1e57b618",
   "metadata": {},
   "source": [
    "` \n",
    " DELETE fornecedor \n",
    " WHERE id = 1;\n",
    "`"
   ]
  },
  {
   "cell_type": "markdown",
   "id": "50c88add",
   "metadata": {},
   "source": [
    "### DROP TABLE"
   ]
  },
  {
   "cell_type": "markdown",
   "id": "5949da36",
   "metadata": {},
   "source": [
    "`\n",
    " DROP TABLE fornecedor;\n",
    "`"
   ]
  },
  {
   "cell_type": "markdown",
   "id": "3c4bf13b",
   "metadata": {},
   "source": [
    "## Importando bases pro sql server "
   ]
  },
  {
   "cell_type": "markdown",
   "id": "99c60f08",
   "metadata": {},
   "source": [
    "## Comandos de consulta"
   ]
  },
  {
   "cell_type": "markdown",
   "id": "17b31fa8",
   "metadata": {},
   "source": [
    "### SELECT e FROM"
   ]
  },
  {
   "cell_type": "markdown",
   "id": "77cd41ab",
   "metadata": {},
   "source": [
    "` \n",
    "SELECT *\n",
    "FROM dbo.olist_sellers_dataset;\n",
    "`"
   ]
  },
  {
   "cell_type": "markdown",
   "id": "da325d40",
   "metadata": {},
   "source": [
    "### WHERE"
   ]
  },
  {
   "cell_type": "markdown",
   "id": "7d0b8745",
   "metadata": {},
   "source": [
    "` \n",
    "SELECT *\n",
    "FROM dbo.olist_sellers_dataset\n",
    "WHERE seller_state = 'SP';\n",
    "`"
   ]
  },
  {
   "cell_type": "markdown",
   "id": "81f1e3d8",
   "metadata": {},
   "source": [
    "## Consultando dados do python com `sqlalchemy`"
   ]
  },
  {
   "cell_type": "markdown",
   "id": "488cd3b5",
   "metadata": {},
   "source": [
    "- Tutoriais sobre sqlalchemy\n",
    "    - https://leportella.com/pt-br/tutorial-sqlalchemy/"
   ]
  },
  {
   "cell_type": "code",
   "execution_count": null,
   "id": "ec4d7a19",
   "metadata": {},
   "outputs": [],
   "source": [
    "!pip install sqlalchemy"
   ]
  },
  {
   "cell_type": "code",
   "execution_count": 1,
   "id": "c1d2ed37",
   "metadata": {
    "ExecuteTime": {
     "end_time": "2022-03-24T23:30:42.512370Z",
     "start_time": "2022-03-24T23:30:41.386628Z"
    }
   },
   "outputs": [],
   "source": [
    "import sqlalchemy\n",
    "import pandas as pd"
   ]
  },
  {
   "cell_type": "code",
   "execution_count": 2,
   "id": "04ec49c0",
   "metadata": {
    "ExecuteTime": {
     "end_time": "2022-03-24T23:31:13.346732Z",
     "start_time": "2022-03-24T23:31:13.237527Z"
    }
   },
   "outputs": [],
   "source": [
    "engine = sqlalchemy.create_engine('mssql+pyodbc://localhost/master?driver=SQL+Server+Native+Client+11.0')"
   ]
  },
  {
   "cell_type": "code",
   "execution_count": 6,
   "id": "3b50fa7d",
   "metadata": {
    "ExecuteTime": {
     "end_time": "2022-03-24T23:33:23.547803Z",
     "start_time": "2022-03-24T23:33:22.844869Z"
    }
   },
   "outputs": [],
   "source": [
    "query = '''\n",
    "    SELECT *\n",
    "    FROM olist_customers_dataset\n",
    "''' \n",
    "df = pd.read_sql(query, engine)"
   ]
  },
  {
   "cell_type": "code",
   "execution_count": 13,
   "id": "f3c900bf",
   "metadata": {
    "ExecuteTime": {
     "end_time": "2022-03-24T23:38:35.850295Z",
     "start_time": "2022-03-24T23:38:35.843624Z"
    }
   },
   "outputs": [
    {
     "data": {
      "text/plain": [
       "(99441, 5)"
      ]
     },
     "execution_count": 13,
     "metadata": {},
     "output_type": "execute_result"
    }
   ],
   "source": [
    "df.shape"
   ]
  },
  {
   "cell_type": "code",
   "execution_count": 9,
   "id": "4bdd1146",
   "metadata": {
    "ExecuteTime": {
     "end_time": "2022-03-24T23:35:01.497128Z",
     "start_time": "2022-03-24T23:35:01.469006Z"
    }
   },
   "outputs": [
    {
     "data": {
      "text/html": [
       "<div>\n",
       "<style scoped>\n",
       "    .dataframe tbody tr th:only-of-type {\n",
       "        vertical-align: middle;\n",
       "    }\n",
       "\n",
       "    .dataframe tbody tr th {\n",
       "        vertical-align: top;\n",
       "    }\n",
       "\n",
       "    .dataframe thead th {\n",
       "        text-align: right;\n",
       "    }\n",
       "</style>\n",
       "<table border=\"1\" class=\"dataframe\">\n",
       "  <thead>\n",
       "    <tr style=\"text-align: right;\">\n",
       "      <th></th>\n",
       "      <th>customer_id</th>\n",
       "      <th>customer_unique_id</th>\n",
       "      <th>customer_zip_code_prefix</th>\n",
       "      <th>customer_city</th>\n",
       "      <th>customer_state</th>\n",
       "    </tr>\n",
       "  </thead>\n",
       "  <tbody>\n",
       "    <tr>\n",
       "      <th>0</th>\n",
       "      <td>06b8999e2fba1a1fbc88172c00ba8bc7</td>\n",
       "      <td>861eff4711a542e4b93843c6dd7febb0</td>\n",
       "      <td>14409</td>\n",
       "      <td>franca</td>\n",
       "      <td>SP</td>\n",
       "    </tr>\n",
       "    <tr>\n",
       "      <th>1</th>\n",
       "      <td>18955e83d337fd6b2def6b18a428ac77</td>\n",
       "      <td>290c77bc529b7ac935b93aa66c333dc3</td>\n",
       "      <td>09790</td>\n",
       "      <td>sao bernardo do campo</td>\n",
       "      <td>SP</td>\n",
       "    </tr>\n",
       "  </tbody>\n",
       "</table>\n",
       "</div>"
      ],
      "text/plain": [
       "                        customer_id                customer_unique_id  \\\n",
       "0  06b8999e2fba1a1fbc88172c00ba8bc7  861eff4711a542e4b93843c6dd7febb0   \n",
       "1  18955e83d337fd6b2def6b18a428ac77  290c77bc529b7ac935b93aa66c333dc3   \n",
       "\n",
       "  customer_zip_code_prefix          customer_city customer_state  \n",
       "0                    14409                 franca             SP  \n",
       "1                    09790  sao bernardo do campo             SP  "
      ]
     },
     "execution_count": 9,
     "metadata": {},
     "output_type": "execute_result"
    }
   ],
   "source": [
    "df.head(2)"
   ]
  },
  {
   "cell_type": "code",
   "execution_count": 12,
   "id": "eb761997",
   "metadata": {
    "ExecuteTime": {
     "end_time": "2022-03-24T23:36:26.031674Z",
     "start_time": "2022-03-24T23:36:25.996803Z"
    }
   },
   "outputs": [
    {
     "data": {
      "text/html": [
       "<div>\n",
       "<style scoped>\n",
       "    .dataframe tbody tr th:only-of-type {\n",
       "        vertical-align: middle;\n",
       "    }\n",
       "\n",
       "    .dataframe tbody tr th {\n",
       "        vertical-align: top;\n",
       "    }\n",
       "\n",
       "    .dataframe thead th {\n",
       "        text-align: right;\n",
       "    }\n",
       "</style>\n",
       "<table border=\"1\" class=\"dataframe\">\n",
       "  <thead>\n",
       "    <tr style=\"text-align: right;\">\n",
       "      <th></th>\n",
       "      <th>customer_id</th>\n",
       "      <th>customer_unique_id</th>\n",
       "      <th>customer_zip_code_prefix</th>\n",
       "      <th>customer_city</th>\n",
       "      <th>customer_state</th>\n",
       "    </tr>\n",
       "  </thead>\n",
       "  <tbody>\n",
       "    <tr>\n",
       "      <th>0</th>\n",
       "      <td>06b8999e2fba1a1fbc88172c00ba8bc7</td>\n",
       "      <td>861eff4711a542e4b93843c6dd7febb0</td>\n",
       "      <td>14409</td>\n",
       "      <td>franca</td>\n",
       "      <td>SP</td>\n",
       "    </tr>\n",
       "    <tr>\n",
       "      <th>1</th>\n",
       "      <td>18955e83d337fd6b2def6b18a428ac77</td>\n",
       "      <td>290c77bc529b7ac935b93aa66c333dc3</td>\n",
       "      <td>09790</td>\n",
       "      <td>sao bernardo do campo</td>\n",
       "      <td>SP</td>\n",
       "    </tr>\n",
       "    <tr>\n",
       "      <th>2</th>\n",
       "      <td>4e7b3e00288586ebd08712fdd0374a03</td>\n",
       "      <td>060e732b5b29e8181a18229c7b0b2b5e</td>\n",
       "      <td>01151</td>\n",
       "      <td>sao paulo</td>\n",
       "      <td>SP</td>\n",
       "    </tr>\n",
       "    <tr>\n",
       "      <th>3</th>\n",
       "      <td>b2b6027bc5c5109e529d4dc6358b12c3</td>\n",
       "      <td>259dac757896d24d7702b9acbbff3f3c</td>\n",
       "      <td>08775</td>\n",
       "      <td>mogi das cruzes</td>\n",
       "      <td>SP</td>\n",
       "    </tr>\n",
       "    <tr>\n",
       "      <th>4</th>\n",
       "      <td>4f2d8ab171c80ec8364f7c12e35b23ad</td>\n",
       "      <td>345ecd01c38d18a9036ed96c73b8d066</td>\n",
       "      <td>13056</td>\n",
       "      <td>campinas</td>\n",
       "      <td>SP</td>\n",
       "    </tr>\n",
       "  </tbody>\n",
       "</table>\n",
       "</div>"
      ],
      "text/plain": [
       "                        customer_id                customer_unique_id  \\\n",
       "0  06b8999e2fba1a1fbc88172c00ba8bc7  861eff4711a542e4b93843c6dd7febb0   \n",
       "1  18955e83d337fd6b2def6b18a428ac77  290c77bc529b7ac935b93aa66c333dc3   \n",
       "2  4e7b3e00288586ebd08712fdd0374a03  060e732b5b29e8181a18229c7b0b2b5e   \n",
       "3  b2b6027bc5c5109e529d4dc6358b12c3  259dac757896d24d7702b9acbbff3f3c   \n",
       "4  4f2d8ab171c80ec8364f7c12e35b23ad  345ecd01c38d18a9036ed96c73b8d066   \n",
       "\n",
       "  customer_zip_code_prefix          customer_city customer_state  \n",
       "0                    14409                 franca             SP  \n",
       "1                    09790  sao bernardo do campo             SP  \n",
       "2                    01151              sao paulo             SP  \n",
       "3                    08775        mogi das cruzes             SP  \n",
       "4                    13056               campinas             SP  "
      ]
     },
     "execution_count": 12,
     "metadata": {},
     "output_type": "execute_result"
    }
   ],
   "source": [
    "query = '''\n",
    "    SELECT TOP 5 *\n",
    "    FROM olist_customers_dataset\n",
    "    WHERE customer_state = 'SP'\n",
    "''' \n",
    "pd.read_sql(query, engine)"
   ]
  },
  {
   "cell_type": "markdown",
   "id": "6f21f822",
   "metadata": {},
   "source": [
    "## Consultando dados do python com `pandasql`"
   ]
  },
  {
   "cell_type": "markdown",
   "id": "68ee3fbe",
   "metadata": {},
   "source": [
    "https://www.analyticsvidhya.com/blog/2021/07/pandasql-best-way-to-run-sql-queries-and-codes-in-jupyter-notebook-using-python/"
   ]
  },
  {
   "cell_type": "markdown",
   "id": "308f57c2",
   "metadata": {},
   "source": [
    "`!pip install pandasql`"
   ]
  },
  {
   "cell_type": "code",
   "execution_count": 14,
   "id": "81961e3c",
   "metadata": {
    "ExecuteTime": {
     "end_time": "2022-03-24T23:38:47.064697Z",
     "start_time": "2022-03-24T23:38:46.329813Z"
    }
   },
   "outputs": [],
   "source": [
    "query = '''\n",
    "    SELECT *\n",
    "    FROM olist_customers_dataset\n",
    "''' \n",
    "df = pd.read_sql(query, engine)"
   ]
  },
  {
   "cell_type": "code",
   "execution_count": 15,
   "id": "5ffc7308",
   "metadata": {
    "ExecuteTime": {
     "end_time": "2022-03-24T23:38:51.075236Z",
     "start_time": "2022-03-24T23:38:51.053199Z"
    }
   },
   "outputs": [
    {
     "data": {
      "text/html": [
       "<div>\n",
       "<style scoped>\n",
       "    .dataframe tbody tr th:only-of-type {\n",
       "        vertical-align: middle;\n",
       "    }\n",
       "\n",
       "    .dataframe tbody tr th {\n",
       "        vertical-align: top;\n",
       "    }\n",
       "\n",
       "    .dataframe thead th {\n",
       "        text-align: right;\n",
       "    }\n",
       "</style>\n",
       "<table border=\"1\" class=\"dataframe\">\n",
       "  <thead>\n",
       "    <tr style=\"text-align: right;\">\n",
       "      <th></th>\n",
       "      <th>customer_id</th>\n",
       "      <th>customer_unique_id</th>\n",
       "      <th>customer_zip_code_prefix</th>\n",
       "      <th>customer_city</th>\n",
       "      <th>customer_state</th>\n",
       "    </tr>\n",
       "  </thead>\n",
       "  <tbody>\n",
       "    <tr>\n",
       "      <th>0</th>\n",
       "      <td>06b8999e2fba1a1fbc88172c00ba8bc7</td>\n",
       "      <td>861eff4711a542e4b93843c6dd7febb0</td>\n",
       "      <td>14409</td>\n",
       "      <td>franca</td>\n",
       "      <td>SP</td>\n",
       "    </tr>\n",
       "    <tr>\n",
       "      <th>1</th>\n",
       "      <td>18955e83d337fd6b2def6b18a428ac77</td>\n",
       "      <td>290c77bc529b7ac935b93aa66c333dc3</td>\n",
       "      <td>09790</td>\n",
       "      <td>sao bernardo do campo</td>\n",
       "      <td>SP</td>\n",
       "    </tr>\n",
       "    <tr>\n",
       "      <th>2</th>\n",
       "      <td>4e7b3e00288586ebd08712fdd0374a03</td>\n",
       "      <td>060e732b5b29e8181a18229c7b0b2b5e</td>\n",
       "      <td>01151</td>\n",
       "      <td>sao paulo</td>\n",
       "      <td>SP</td>\n",
       "    </tr>\n",
       "    <tr>\n",
       "      <th>3</th>\n",
       "      <td>b2b6027bc5c5109e529d4dc6358b12c3</td>\n",
       "      <td>259dac757896d24d7702b9acbbff3f3c</td>\n",
       "      <td>08775</td>\n",
       "      <td>mogi das cruzes</td>\n",
       "      <td>SP</td>\n",
       "    </tr>\n",
       "    <tr>\n",
       "      <th>4</th>\n",
       "      <td>4f2d8ab171c80ec8364f7c12e35b23ad</td>\n",
       "      <td>345ecd01c38d18a9036ed96c73b8d066</td>\n",
       "      <td>13056</td>\n",
       "      <td>campinas</td>\n",
       "      <td>SP</td>\n",
       "    </tr>\n",
       "  </tbody>\n",
       "</table>\n",
       "</div>"
      ],
      "text/plain": [
       "                        customer_id                customer_unique_id  \\\n",
       "0  06b8999e2fba1a1fbc88172c00ba8bc7  861eff4711a542e4b93843c6dd7febb0   \n",
       "1  18955e83d337fd6b2def6b18a428ac77  290c77bc529b7ac935b93aa66c333dc3   \n",
       "2  4e7b3e00288586ebd08712fdd0374a03  060e732b5b29e8181a18229c7b0b2b5e   \n",
       "3  b2b6027bc5c5109e529d4dc6358b12c3  259dac757896d24d7702b9acbbff3f3c   \n",
       "4  4f2d8ab171c80ec8364f7c12e35b23ad  345ecd01c38d18a9036ed96c73b8d066   \n",
       "\n",
       "  customer_zip_code_prefix          customer_city customer_state  \n",
       "0                    14409                 franca             SP  \n",
       "1                    09790  sao bernardo do campo             SP  \n",
       "2                    01151              sao paulo             SP  \n",
       "3                    08775        mogi das cruzes             SP  \n",
       "4                    13056               campinas             SP  "
      ]
     },
     "execution_count": 15,
     "metadata": {},
     "output_type": "execute_result"
    }
   ],
   "source": [
    "df.head()"
   ]
  },
  {
   "cell_type": "code",
   "execution_count": 16,
   "id": "8d9e0b48",
   "metadata": {
    "ExecuteTime": {
     "end_time": "2022-03-24T23:39:24.541516Z",
     "start_time": "2022-03-24T23:39:24.517152Z"
    }
   },
   "outputs": [],
   "source": [
    "from pandasql import sqldf"
   ]
  },
  {
   "cell_type": "code",
   "execution_count": 18,
   "id": "5ee400df",
   "metadata": {
    "ExecuteTime": {
     "end_time": "2022-03-24T23:39:47.082184Z",
     "start_time": "2022-03-24T23:39:46.041208Z"
    }
   },
   "outputs": [
    {
     "data": {
      "text/html": [
       "<div>\n",
       "<style scoped>\n",
       "    .dataframe tbody tr th:only-of-type {\n",
       "        vertical-align: middle;\n",
       "    }\n",
       "\n",
       "    .dataframe tbody tr th {\n",
       "        vertical-align: top;\n",
       "    }\n",
       "\n",
       "    .dataframe thead th {\n",
       "        text-align: right;\n",
       "    }\n",
       "</style>\n",
       "<table border=\"1\" class=\"dataframe\">\n",
       "  <thead>\n",
       "    <tr style=\"text-align: right;\">\n",
       "      <th></th>\n",
       "      <th>customer_id</th>\n",
       "      <th>customer_unique_id</th>\n",
       "      <th>customer_zip_code_prefix</th>\n",
       "      <th>customer_city</th>\n",
       "      <th>customer_state</th>\n",
       "    </tr>\n",
       "  </thead>\n",
       "  <tbody>\n",
       "    <tr>\n",
       "      <th>0</th>\n",
       "      <td>06b8999e2fba1a1fbc88172c00ba8bc7</td>\n",
       "      <td>861eff4711a542e4b93843c6dd7febb0</td>\n",
       "      <td>14409</td>\n",
       "      <td>franca</td>\n",
       "      <td>SP</td>\n",
       "    </tr>\n",
       "    <tr>\n",
       "      <th>1</th>\n",
       "      <td>18955e83d337fd6b2def6b18a428ac77</td>\n",
       "      <td>290c77bc529b7ac935b93aa66c333dc3</td>\n",
       "      <td>09790</td>\n",
       "      <td>sao bernardo do campo</td>\n",
       "      <td>SP</td>\n",
       "    </tr>\n",
       "    <tr>\n",
       "      <th>2</th>\n",
       "      <td>4e7b3e00288586ebd08712fdd0374a03</td>\n",
       "      <td>060e732b5b29e8181a18229c7b0b2b5e</td>\n",
       "      <td>01151</td>\n",
       "      <td>sao paulo</td>\n",
       "      <td>SP</td>\n",
       "    </tr>\n",
       "    <tr>\n",
       "      <th>3</th>\n",
       "      <td>b2b6027bc5c5109e529d4dc6358b12c3</td>\n",
       "      <td>259dac757896d24d7702b9acbbff3f3c</td>\n",
       "      <td>08775</td>\n",
       "      <td>mogi das cruzes</td>\n",
       "      <td>SP</td>\n",
       "    </tr>\n",
       "    <tr>\n",
       "      <th>4</th>\n",
       "      <td>4f2d8ab171c80ec8364f7c12e35b23ad</td>\n",
       "      <td>345ecd01c38d18a9036ed96c73b8d066</td>\n",
       "      <td>13056</td>\n",
       "      <td>campinas</td>\n",
       "      <td>SP</td>\n",
       "    </tr>\n",
       "  </tbody>\n",
       "</table>\n",
       "</div>"
      ],
      "text/plain": [
       "                        customer_id                customer_unique_id  \\\n",
       "0  06b8999e2fba1a1fbc88172c00ba8bc7  861eff4711a542e4b93843c6dd7febb0   \n",
       "1  18955e83d337fd6b2def6b18a428ac77  290c77bc529b7ac935b93aa66c333dc3   \n",
       "2  4e7b3e00288586ebd08712fdd0374a03  060e732b5b29e8181a18229c7b0b2b5e   \n",
       "3  b2b6027bc5c5109e529d4dc6358b12c3  259dac757896d24d7702b9acbbff3f3c   \n",
       "4  4f2d8ab171c80ec8364f7c12e35b23ad  345ecd01c38d18a9036ed96c73b8d066   \n",
       "\n",
       "  customer_zip_code_prefix          customer_city customer_state  \n",
       "0                    14409                 franca             SP  \n",
       "1                    09790  sao bernardo do campo             SP  \n",
       "2                    01151              sao paulo             SP  \n",
       "3                    08775        mogi das cruzes             SP  \n",
       "4                    13056               campinas             SP  "
      ]
     },
     "execution_count": 18,
     "metadata": {},
     "output_type": "execute_result"
    }
   ],
   "source": [
    "query = '''\n",
    "    SELECT *\n",
    "    FROM df\n",
    "    LIMIT 5\n",
    "''' \n",
    "\n",
    "sqldf(query)"
   ]
  },
  {
   "cell_type": "code",
   "execution_count": 19,
   "id": "d290aefa",
   "metadata": {
    "ExecuteTime": {
     "end_time": "2022-03-24T23:41:40.441736Z",
     "start_time": "2022-03-24T23:41:39.506708Z"
    }
   },
   "outputs": [
    {
     "data": {
      "text/html": [
       "<div>\n",
       "<style scoped>\n",
       "    .dataframe tbody tr th:only-of-type {\n",
       "        vertical-align: middle;\n",
       "    }\n",
       "\n",
       "    .dataframe tbody tr th {\n",
       "        vertical-align: top;\n",
       "    }\n",
       "\n",
       "    .dataframe thead th {\n",
       "        text-align: right;\n",
       "    }\n",
       "</style>\n",
       "<table border=\"1\" class=\"dataframe\">\n",
       "  <thead>\n",
       "    <tr style=\"text-align: right;\">\n",
       "      <th></th>\n",
       "      <th>customer_id</th>\n",
       "      <th>customer_unique_id</th>\n",
       "      <th>customer_zip_code_prefix</th>\n",
       "      <th>customer_city</th>\n",
       "      <th>customer_state</th>\n",
       "    </tr>\n",
       "  </thead>\n",
       "  <tbody>\n",
       "    <tr>\n",
       "      <th>0</th>\n",
       "      <td>06b8999e2fba1a1fbc88172c00ba8bc7</td>\n",
       "      <td>861eff4711a542e4b93843c6dd7febb0</td>\n",
       "      <td>14409</td>\n",
       "      <td>franca</td>\n",
       "      <td>SP</td>\n",
       "    </tr>\n",
       "    <tr>\n",
       "      <th>1</th>\n",
       "      <td>18955e83d337fd6b2def6b18a428ac77</td>\n",
       "      <td>290c77bc529b7ac935b93aa66c333dc3</td>\n",
       "      <td>09790</td>\n",
       "      <td>sao bernardo do campo</td>\n",
       "      <td>SP</td>\n",
       "    </tr>\n",
       "    <tr>\n",
       "      <th>2</th>\n",
       "      <td>4e7b3e00288586ebd08712fdd0374a03</td>\n",
       "      <td>060e732b5b29e8181a18229c7b0b2b5e</td>\n",
       "      <td>01151</td>\n",
       "      <td>sao paulo</td>\n",
       "      <td>SP</td>\n",
       "    </tr>\n",
       "    <tr>\n",
       "      <th>3</th>\n",
       "      <td>b2b6027bc5c5109e529d4dc6358b12c3</td>\n",
       "      <td>259dac757896d24d7702b9acbbff3f3c</td>\n",
       "      <td>08775</td>\n",
       "      <td>mogi das cruzes</td>\n",
       "      <td>SP</td>\n",
       "    </tr>\n",
       "    <tr>\n",
       "      <th>4</th>\n",
       "      <td>4f2d8ab171c80ec8364f7c12e35b23ad</td>\n",
       "      <td>345ecd01c38d18a9036ed96c73b8d066</td>\n",
       "      <td>13056</td>\n",
       "      <td>campinas</td>\n",
       "      <td>SP</td>\n",
       "    </tr>\n",
       "  </tbody>\n",
       "</table>\n",
       "</div>"
      ],
      "text/plain": [
       "                        customer_id                customer_unique_id  \\\n",
       "0  06b8999e2fba1a1fbc88172c00ba8bc7  861eff4711a542e4b93843c6dd7febb0   \n",
       "1  18955e83d337fd6b2def6b18a428ac77  290c77bc529b7ac935b93aa66c333dc3   \n",
       "2  4e7b3e00288586ebd08712fdd0374a03  060e732b5b29e8181a18229c7b0b2b5e   \n",
       "3  b2b6027bc5c5109e529d4dc6358b12c3  259dac757896d24d7702b9acbbff3f3c   \n",
       "4  4f2d8ab171c80ec8364f7c12e35b23ad  345ecd01c38d18a9036ed96c73b8d066   \n",
       "\n",
       "  customer_zip_code_prefix          customer_city customer_state  \n",
       "0                    14409                 franca             SP  \n",
       "1                    09790  sao bernardo do campo             SP  \n",
       "2                    01151              sao paulo             SP  \n",
       "3                    08775        mogi das cruzes             SP  \n",
       "4                    13056               campinas             SP  "
      ]
     },
     "execution_count": 19,
     "metadata": {},
     "output_type": "execute_result"
    }
   ],
   "source": [
    "query = '''\n",
    "    SELECT *\n",
    "    FROM df\n",
    "    WHERE customer_state = 'SP'\n",
    "    LIMIT 5\n",
    "''' \n",
    "\n",
    "sqldf(query)"
   ]
  },
  {
   "cell_type": "markdown",
   "id": "91a3dbad",
   "metadata": {},
   "source": [
    "## Olist datasets"
   ]
  },
  {
   "cell_type": "markdown",
   "id": "703ff0e7",
   "metadata": {},
   "source": [
    "![](https://i.imgur.com/HRhd2Y0.png)"
   ]
  }
 ],
 "metadata": {
  "hide_input": false,
  "kernelspec": {
   "display_name": "Python 3",
   "language": "python",
   "name": "python3"
  },
  "language_info": {
   "codemirror_mode": {
    "name": "ipython",
    "version": 3
   },
   "file_extension": ".py",
   "mimetype": "text/x-python",
   "name": "python",
   "nbconvert_exporter": "python",
   "pygments_lexer": "ipython3",
   "version": "3.8.8"
  },
  "toc": {
   "base_numbering": 1,
   "nav_menu": {},
   "number_sections": true,
   "sideBar": true,
   "skip_h1_title": false,
   "title_cell": "Table of Contents",
   "title_sidebar": "Contents",
   "toc_cell": false,
   "toc_position": {},
   "toc_section_display": true,
   "toc_window_display": false
  },
  "varInspector": {
   "cols": {
    "lenName": 16,
    "lenType": 16,
    "lenVar": 40
   },
   "kernels_config": {
    "python": {
     "delete_cmd_postfix": "",
     "delete_cmd_prefix": "del ",
     "library": "var_list.py",
     "varRefreshCmd": "print(var_dic_list())"
    },
    "r": {
     "delete_cmd_postfix": ") ",
     "delete_cmd_prefix": "rm(",
     "library": "var_list.r",
     "varRefreshCmd": "cat(var_dic_list()) "
    }
   },
   "types_to_exclude": [
    "module",
    "function",
    "builtin_function_or_method",
    "instance",
    "_Feature"
   ],
   "window_display": false
  }
 },
 "nbformat": 4,
 "nbformat_minor": 5
}
